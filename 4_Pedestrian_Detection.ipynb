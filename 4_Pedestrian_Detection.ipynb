{
 "cells": [
  {
   "cell_type": "markdown",
   "metadata": {},
   "source": [
    "# Python Blink Counter \n",
    "\n",
    "__En__: \n",
    "\n",
    "__PT__: "
   ]
  },
  {
   "cell_type": "code",
   "execution_count": 1,
   "metadata": {},
   "outputs": [],
   "source": [
    "import cv2\n",
    "import numpy as np"
   ]
  },
  {
   "cell_type": "code",
   "execution_count": 2,
   "metadata": {},
   "outputs": [],
   "source": [
    "cap = cv2.VideoCapture('videos/people.mp4')\n",
    "frame_width = int(cap.get(cv2.CAP_PROP_FRAME_WIDTH))\n",
    "frame_height = int(cap.get(cv2.CAP_PROP_FRAME_HEIGHT))"
   ]
  },
  {
   "cell_type": "code",
   "execution_count": 3,
   "metadata": {},
   "outputs": [],
   "source": [
    "fourcc = cv2.VideoWriter_fourcc('X', 'V', 'I', 'D')"
   ]
  },
  {
   "cell_type": "code",
   "execution_count": 4,
   "metadata": {},
   "outputs": [],
   "source": [
    "out = cv2.VideoWriter('videos/output.avi', fourcc, 5.0, (1280, 720))"
   ]
  },
  {
   "cell_type": "code",
   "execution_count": 5,
   "metadata": {},
   "outputs": [
    {
     "name": "stdout",
     "output_type": "stream",
     "text": [
      "[[[126 126 126]\n",
      "  [128 128 128]\n",
      "  [128 128 128]\n",
      "  ...\n",
      "  [147 150 148]\n",
      "  [148 151 149]\n",
      "  [148 151 149]]\n",
      "\n",
      " [[126 126 126]\n",
      "  [128 128 128]\n",
      "  [128 128 128]\n",
      "  ...\n",
      "  [147 150 148]\n",
      "  [148 151 149]\n",
      "  [148 151 149]]\n",
      "\n",
      " [[126 126 126]\n",
      "  [126 126 126]\n",
      "  [128 128 128]\n",
      "  ...\n",
      "  [147 150 148]\n",
      "  [147 150 148]\n",
      "  [148 151 149]]\n",
      "\n",
      " ...\n",
      "\n",
      " [[199 202 200]\n",
      "  [199 202 200]\n",
      "  [199 202 200]\n",
      "  ...\n",
      "  [229 229 229]\n",
      "  [229 229 229]\n",
      "  [229 229 229]]\n",
      "\n",
      " [[199 202 200]\n",
      "  [199 202 200]\n",
      "  [199 202 200]\n",
      "  ...\n",
      "  [229 229 229]\n",
      "  [229 229 229]\n",
      "  [229 229 229]]\n",
      "\n",
      " [[199 202 200]\n",
      "  [199 202 200]\n",
      "  [199 202 200]\n",
      "  ...\n",
      "  [229 229 229]\n",
      "  [229 229 229]\n",
      "  [229 229 229]]]\n",
      "[[[126 126 126]\n",
      "  [128 128 128]\n",
      "  [128 128 128]\n",
      "  ...\n",
      "  [147 150 148]\n",
      "  [148 151 149]\n",
      "  [148 151 149]]\n",
      "\n",
      " [[126 126 126]\n",
      "  [128 128 128]\n",
      "  [128 128 128]\n",
      "  ...\n",
      "  [147 150 148]\n",
      "  [148 151 149]\n",
      "  [148 151 149]]\n",
      "\n",
      " [[126 126 126]\n",
      "  [126 126 126]\n",
      "  [128 128 128]\n",
      "  ...\n",
      "  [147 150 148]\n",
      "  [147 150 148]\n",
      "  [148 151 149]]\n",
      "\n",
      " ...\n",
      "\n",
      " [[199 202 200]\n",
      "  [199 202 200]\n",
      "  [199 202 200]\n",
      "  ...\n",
      "  [230 230 230]\n",
      "  [230 230 230]\n",
      "  [230 230 230]]\n",
      "\n",
      " [[199 202 200]\n",
      "  [199 202 200]\n",
      "  [199 202 200]\n",
      "  ...\n",
      "  [230 230 230]\n",
      "  [230 230 230]\n",
      "  [230 230 230]]\n",
      "\n",
      " [[199 202 200]\n",
      "  [199 202 200]\n",
      "  [199 202 200]\n",
      "  ...\n",
      "  [230 230 230]\n",
      "  [230 230 230]\n",
      "  [230 230 230]]]\n"
     ]
    }
   ],
   "source": [
    "ret, frame1 = cap.read()\n",
    "ret, frame2 = cap.read()\n",
    "\n",
    "print(frame1)\n",
    "print(frame2)"
   ]
  },
  {
   "cell_type": "code",
   "execution_count": null,
   "metadata": {},
   "outputs": [],
   "source": [
    "while cap.isOpened():\n",
    "    diff = cv2.absdiff(frame1, frame2)\n",
    "    gray = cv2.cvtColor(diff, cv2.COLOR_BGR2GRAY)\n",
    "    blur = cv2.GaussianBlur(gray, (5,5), 0)\n",
    "    _, thresh = cv2.threshold(blur, 20, 255, cv2.THRESH_BINARY)\n",
    "    \n",
    "    dilated = cv2.dilate(thresh, None, iterations=3)\n",
    "    contours, _ = cv2.findContours(dilated, cv2.RETR_TREE, cv2.CHAIN_APPROX_SIMPLE)\n",
    "    \n",
    "    for contour in contours:\n",
    "        (x, y, w, h) = cv2.boundingRect(contour)\n",
    "        \n",
    "    if cv2.contourArea(contour) < 900:\n",
    "        continue\n",
    "    \n",
    "    cv2.rectangle(frame1, (x, y), (x+w, y+h), (0, 255, 0), 2)\n",
    "    cv2.putText(frame1, \"Status: {}\".format('Movement'), (10 , 20), cv2.FONT_HERSHEY_SIMPLEX, 1, (0, 0, 255), 3)\n",
    "    \n",
    "    image = cv2.resize(frame1, (1280,720))\n",
    "    out.write(image)\n",
    "    cv2.imshow(\"feed\", frame1)\n",
    "    frame1 = frame2\n",
    "    ret, frame2 = cap.read()\n",
    "    \n",
    "    if cv2.waitKey(40) == 27:\n",
    "        break\n",
    "    "
   ]
  },
  {
   "cell_type": "code",
   "execution_count": null,
   "metadata": {},
   "outputs": [],
   "source": [
    "cv2.destroyAllWindows()\n",
    "cap.release()\n",
    "out.release()"
   ]
  }
 ],
 "metadata": {
  "kernelspec": {
   "display_name": "Python 3",
   "language": "python",
   "name": "python3"
  },
  "language_info": {
   "codemirror_mode": {
    "name": "ipython",
    "version": 3
   },
   "file_extension": ".py",
   "mimetype": "text/x-python",
   "name": "python",
   "nbconvert_exporter": "python",
   "pygments_lexer": "ipython3",
   "version": "3.8.3"
  }
 },
 "nbformat": 4,
 "nbformat_minor": 4
}
