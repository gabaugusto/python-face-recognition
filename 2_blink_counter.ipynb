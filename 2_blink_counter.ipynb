{
 "cells": [
  {
   "cell_type": "markdown",
   "metadata": {},
   "source": [
    "# Python Blink Counter \n",
    "\n",
    "__En__: The goal here is just to look in a face and count how many blinks it counts.  \n",
    "\n",
    "__PT__: O Objetivo aqui é só olhar em um rosto e contar quantas vezes os olhos piscaram "
   ]
  },
  {
   "cell_type": "code",
   "execution_count": null,
   "metadata": {},
   "outputs": [],
   "source": [
    "import numpy as np \n",
    "import cv2"
   ]
  },
  {
   "cell_type": "code",
   "execution_count": null,
   "metadata": {},
   "outputs": [],
   "source": [
    "#CascadeClassifiers\n",
    "eye_cascade = cv2.CascadeClassifier('haarcascade_eye_tree_eyeglasses.xml')\n",
    "face_cascade = cv2.CascadeClassifier('haarcascade_frontalface_default.xml')\n",
    "\n",
    "first_read = True\n",
    "\n",
    "#Video Capture\n",
    "cap = cv2.VideoCapture(0)\n",
    "ret, img = cap.read()\n",
    "\n",
    "while(ret):\n",
    "    ret,img = cap.read()\n",
    "\n",
    "    gray=cv2.cvtColor(img, cv2.COLOR_BGR2GRAY)\n",
    "    #remove impurities\n",
    "    gray = cv2.bilateralFilter(gray, 5, 1 ,1)\n",
    "\n",
    "    faces = face_cascade.detectMultiScale(gray, 1.3,5,minSize=(200,200))\n",
    "    print(faces)\n",
    "    \n",
    "    if(len(faces)>0):\n",
    "        for(x, y, w, h) in faces:\n",
    "            img = cv2.rectangle(img, (x, y), (x+w, y+h), (255, 0, 0), 2) \n",
    "\n",
    "            #roi_face\n",
    "            roi_face = gray[y:y+h, x:x+w]\n",
    "            roi_face_clr = img[y:y+h, x:x+w]\n",
    "            eyes = eye_cascade.detectMultiScale(roi_face,  1.3,5,minSize=(50,50))\n",
    "\n",
    "            #Examining \n",
    "            if(len(eyes)>2):\n",
    "                if(first_read):\n",
    "                    cv2.putText(img, \"Eyes detected. Press X to begin\", (70,70), cv2.FONT_HERSHEY_PLAIN, 3, (0,255,0),2)\n",
    "                else:\n",
    "                    cv2.putText(img, \"Eyes open\", (70,70), cv2.FONT_HERSHEY_PLAIN, 3, (0,255,0),2)\n",
    "            else:\n",
    "                if(first_read):\n",
    "                    cv2.putText(img, \"No eyes detected.\", (70,70), cv2.FONT_HERSHEY_PLAIN, 3, (0,255,0),2)\n",
    "                else:\n",
    "                    cv2.putText(img, \"Eyes open\", (70,70), cv2.FONT_HERSHEY_PLAIN, 3, (0,255,0),2)\n",
    "\n",
    "    else:\n",
    "         cv2.putText(img, \"No face detected.\", (170,170), cv2.FONT_HERSHEY_PLAIN, 3, (0,255,0),2)\n",
    "\n",
    "    cv2.imshow('img', img)\n",
    "    a = cv2.waitKey(1)\n",
    "    if(a==ord('q')):\n",
    "        break\n",
    "    elif(a==ord('x') and first_read):\n",
    "        first_read = False\n",
    "\n",
    "cap.release()\n",
    "cv2.destroyAllWindows()"
   ]
  },
  {
   "cell_type": "code",
   "execution_count": null,
   "metadata": {},
   "outputs": [],
   "source": []
  },
  {
   "cell_type": "code",
   "execution_count": null,
   "metadata": {},
   "outputs": [],
   "source": []
  }
 ],
 "metadata": {
  "kernelspec": {
   "display_name": "Python 3",
   "language": "python",
   "name": "python3"
  },
  "language_info": {
   "codemirror_mode": {
    "name": "ipython",
    "version": 3
   },
   "file_extension": ".py",
   "mimetype": "text/x-python",
   "name": "python",
   "nbconvert_exporter": "python",
   "pygments_lexer": "ipython3",
   "version": "3.8.3"
  }
 },
 "nbformat": 4,
 "nbformat_minor": 4
}
